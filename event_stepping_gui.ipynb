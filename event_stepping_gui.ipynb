{
 "cells": [
  {
   "cell_type": "markdown",
   "metadata": {},
   "source": [
    "### Develop an event stepping of models with a GUI "
   ]
  },
  {
   "cell_type": "code",
   "execution_count": 5,
   "metadata": {},
   "outputs": [],
   "source": [
    "from tkinter import *\n",
    "import random\n",
    "  \n",
    "# Creating a window\n",
    "window = Tk()\n",
    "  \n",
    "# Setting background colour of the window\n",
    "window.configure(bg=\"white\")\n",
    "  \n",
    "# Setting geometry of the window\n",
    "window.geometry(\"550x350\")\n",
    "  \n",
    "# Setting title of the window\n",
    "window.title(\"Rolling The Dices Game\")\n",
    "  \n",
    "# Preventing maximizing of the window\n",
    "window.resizable(0, 0)\n",
    "  \n",
    "# Creating function to roll the dices\n",
    "def roll_dices():\n",
    "     # These values indicate dots on the dices.\n",
    "     # For eg: \\u2680 corresponds to 1 dot,\n",
    "     # \\u2681 corresponds to 2 dots etc.\n",
    "    dice_dots = ['\\u2680', '\\u2681',\n",
    "                 '\\u2682', '\\u2683',\n",
    "                 '\\u2684', '\\u2685']\n",
    "    # Generating random dots on the dices\n",
    "    label.configure(\n",
    "        text=f'{random.choice(dice_dots)}{random.choice(dice_dots)}')\n",
    "    label.pack()\n",
    "  \n",
    "  \n",
    "# Adding button to roll the dices\n",
    "roll_button = Button(window, text=\"Roll!\",\n",
    "                     width=10, height=2,\n",
    "                     font=15, bg=\"aqua\",\n",
    "                     bd=2, command=roll_dices)\n",
    "# Setting the position of the button\n",
    "roll_button.pack(padx=10, pady=15)  \n",
    "  \n",
    "# Adding Label\n",
    "label = Label(window, font=(\"times\", 250),\n",
    "              bg=\"white\", fg=\"red\")\n",
    "  \n",
    "window.mainloop()"
   ]
  },
  {
   "cell_type": "code",
   "execution_count": null,
   "metadata": {},
   "outputs": [],
   "source": []
  }
 ],
 "metadata": {
  "kernelspec": {
   "display_name": "Python 3 (ipykernel)",
   "language": "python",
   "name": "python3"
  },
  "language_info": {
   "codemirror_mode": {
    "name": "ipython",
    "version": 3
   },
   "file_extension": ".py",
   "mimetype": "text/x-python",
   "name": "python",
   "nbconvert_exporter": "python",
   "pygments_lexer": "ipython3",
   "version": "3.9.7"
  }
 },
 "nbformat": 4,
 "nbformat_minor": 4
}
