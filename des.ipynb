{
 "cells": [
  {
   "cell_type": "markdown",
   "metadata": {},
   "source": [
    "### Develop a Discrete Event Simulation(DES) using SimPy"
   ]
  },
  {
   "cell_type": "markdown",
   "metadata": {},
   "source": [
    "##### Installation of library "
   ]
  },
  {
   "cell_type": "code",
   "execution_count": 1,
   "metadata": {},
   "outputs": [
    {
     "name": "stdout",
     "output_type": "stream",
     "text": [
      "Collecting simpy==4.0.1\n",
      "  Using cached simpy-4.0.1-py2.py3-none-any.whl (29 kB)\n",
      "Installing collected packages: simpy\n",
      "  Attempting uninstall: simpy\n",
      "    Found existing installation: simpy 2.3.1\n",
      "    Uninstalling simpy-2.3.1:\n",
      "      Successfully uninstalled simpy-2.3.1\n",
      "Successfully installed simpy-4.0.1\n",
      "Note: you may need to restart the kernel to use updated packages.\n"
     ]
    }
   ],
   "source": [
    "pip install simpy==4.0.1"
   ]
  },
  {
   "cell_type": "code",
   "execution_count": 2,
   "metadata": {},
   "outputs": [],
   "source": [
    "#Import important library\n",
    "from random import randint\n",
    "import simpy"
   ]
  },
  {
   "cell_type": "markdown",
   "metadata": {},
   "source": [
    "##### we try to replicate the conference hall scenario, where there is a random number of speakers with talks per session of 4 with talk length of 40 min and break the length of 30 min."
   ]
  },
  {
   "cell_type": "code",
   "execution_count": 3,
   "metadata": {},
   "outputs": [],
   "source": [
    "## Inital variables\n",
    "TALKS_PER_SESSION = 3\n",
    "TALK_LENGTH = 30\n",
    "BREAK_LENGTH = 15\n",
    "ATTENDEES = 1"
   ]
  },
  {
   "cell_type": "markdown",
   "metadata": {},
   "source": [
    "##### Our attendee process requires a reference to an Environment (env), name, knowledge, and hunger in order to create new events. Sessions will go in an infinite loop till it becomes False.  The attendee() function is a generator which will not terminate but will pass the control flow back to the simulation once a yield statement is reached.\n"
   ]
  },
  {
   "cell_type": "code",
   "execution_count": 4,
   "metadata": {},
   "outputs": [],
   "source": [
    "def attendee(env, name, knowledge=0, hunger=0):\n",
    "    talks = 0\n",
    "    breaks = 0\n",
    "    #Repeat sessions\n",
    "    while True:\n",
    "        # Visit talks\n",
    "        for i in range(TALKS_PER_SESSION):\n",
    "            print(\"Talk {0} begins at {1}\".format(talks+1, env.now))\n",
    "            knowledge += randint(0, 3) / (1 + hunger)\n",
    "            hunger += randint(1, 4)\n",
    "            talks += 1\n",
    "            yield env.timeout(TALK_LENGTH)\n",
    "            print(f\"Talk {talks} ends at {env.now}\")\n",
    "        print(\"Attendee %s finished talks with knowledge %.2f and hunger ' '%.2f\" %( name, knowledge, hunger))\n",
    "        #Take a break, Go to buffet\n",
    "        food = randint(3, 12)\n",
    "        hunger -= min(food, hunger)\n",
    "        yield env.timeout(BREAK_LENGTH)\n",
    "        print(\"Attendee %s finished eating with hunger %.2f \" %(name, hunger))"
   ]
  },
  {
   "cell_type": "code",
   "execution_count": 5,
   "metadata": {},
   "outputs": [
    {
     "name": "stdout",
     "output_type": "stream",
     "text": [
      "Talk 1 begins at 0\n",
      "Talk 1 ends at 30\n",
      "Talk 2 begins at 30\n",
      "Talk 2 ends at 60\n",
      "Talk 3 begins at 60\n",
      "Talk 3 ends at 90\n",
      "Attendee 0 finished talks with knowledge 1.29 and hunger ' '9.00\n",
      "Attendee 0 finished eating with hunger 5.00 \n",
      "Talk 4 begins at 105\n",
      "Talk 4 ends at 135\n",
      "Talk 5 begins at 135\n",
      "Talk 5 ends at 165\n",
      "Talk 6 begins at 165\n",
      "Talk 6 ends at 195\n",
      "Attendee 0 finished talks with knowledge 1.29 and hunger ' '11.00\n",
      "Attendee 0 finished eating with hunger 1.00 \n",
      "Talk 7 begins at 210\n",
      "Talk 7 ends at 240\n",
      "Talk 8 begins at 240\n"
     ]
    }
   ],
   "source": [
    "# Run Simulation\n",
    "env = simpy.Environment()\n",
    "for i in range(ATTENDEES):\n",
    "    env.process(attendee(env, i))\n",
    "env.run(until=250)"
   ]
  },
  {
   "cell_type": "code",
   "execution_count": null,
   "metadata": {},
   "outputs": [],
   "source": []
  },
  {
   "cell_type": "code",
   "execution_count": null,
   "metadata": {},
   "outputs": [],
   "source": []
  }
 ],
 "metadata": {
  "kernelspec": {
   "display_name": "Python 3 (ipykernel)",
   "language": "python",
   "name": "python3"
  },
  "language_info": {
   "codemirror_mode": {
    "name": "ipython",
    "version": 3
   },
   "file_extension": ".py",
   "mimetype": "text/x-python",
   "name": "python",
   "nbconvert_exporter": "python",
   "pygments_lexer": "ipython3",
   "version": "3.9.7"
  }
 },
 "nbformat": 4,
 "nbformat_minor": 4
}
