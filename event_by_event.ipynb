{
 "cells": [
  {
   "cell_type": "markdown",
   "metadata": {},
   "source": [
    "### Develop a program for executing simulation event by event"
   ]
  },
  {
   "cell_type": "markdown",
   "metadata": {},
   "source": [
    "##### Installation of library"
   ]
  },
  {
   "cell_type": "code",
   "execution_count": 1,
   "metadata": {},
   "outputs": [
    {
     "name": "stdout",
     "output_type": "stream",
     "text": [
      "Requirement already satisfied: simpy==4.0.1 in c:\\users\\mudit jain\\anaconda3\\lib\\site-packages (4.0.1)\n",
      "Note: you may need to restart the kernel to use updated packages.\n"
     ]
    }
   ],
   "source": [
    "pip install simpy==4.0.1"
   ]
  },
  {
   "cell_type": "code",
   "execution_count": 2,
   "metadata": {},
   "outputs": [],
   "source": [
    "import simpy\n",
    "import random\n",
    "import statistics"
   ]
  },
  {
   "cell_type": "code",
   "execution_count": 3,
   "metadata": {},
   "outputs": [],
   "source": [
    "### Inital Variable \n",
    "wait_times = []"
   ]
  },
  {
   "cell_type": "code",
   "execution_count": 4,
   "metadata": {},
   "outputs": [],
   "source": [
    "### A class \"Theater\" contain event for simulation \n",
    "class Theater(object):\n",
    "    def __init__(self, env, num_cashiers, num_servers, num_ushers):\n",
    "        self.env = env\n",
    "        self.cashier =simpy.Resource(env, num_cashiers)\n",
    "        self.server = simpy.Resource(env, num_servers)\n",
    "        self.usher = simpy.Resource(env, num_ushers)\n",
    "\n",
    "    def purchase_ticket(self, moviegoer):\n",
    "        yield self.env.timeout(random.randint(1, 3))\n",
    "\n",
    "    def check_ticket(self, moviegoer):\n",
    "        yield self.env.timeout(3 / 60)\n",
    "\n",
    "    def sell_food(self, moviegoer):\n",
    "        yield self.env.timeout(random.randint(1, 5))"
   ]
  },
  {
   "cell_type": "code",
   "execution_count": 5,
   "metadata": {},
   "outputs": [],
   "source": [
    "def go_to_movies(env, moviegoer, theater):\n",
    "    # Movie goer arrives at the theater\n",
    "    arrival_time = env.now\n",
    "\n",
    "    with theater.cashier.request() as request:\n",
    "        yield request\n",
    "        yield env.process(theater.purchase_ticket(moviegoer))\n",
    "\n",
    "    with theater.usher.request() as request:\n",
    "        yield request\n",
    "        yield env.process(theater.check_ticket(moviegoer))\n",
    "\n",
    "    if random.choice([True, False]):\n",
    "        with theater.server.request() as request:\n",
    "            yield request\n",
    "            yield env.process(theater.sell_food(moviegoer))\n",
    "\n",
    "    # Moviegoer heads into the theater\n",
    "    wait_times.append(env.now - arrival_time)"
   ]
  },
  {
   "cell_type": "code",
   "execution_count": 6,
   "metadata": {},
   "outputs": [],
   "source": [
    "def run_theater(env, num_cashiers, num_servers, num_ushers):\n",
    "    theater = Theater(env, num_cashiers, num_servers, num_ushers)\n",
    "\n",
    "    for moviegoer in range(3):\n",
    "        env.process(go_to_movies(env, moviegoer, theater))\n",
    "\n",
    "    while True:\n",
    "        yield env.timeout(0.20)  # Wait a bit before generating a new person\n",
    "\n",
    "        moviegoer += 1\n",
    "        env.process(go_to_movies(env, moviegoer, theater))"
   ]
  },
  {
   "cell_type": "code",
   "execution_count": 7,
   "metadata": {},
   "outputs": [],
   "source": [
    "def get_average_wait_time(wait_times):\n",
    "    average_wait = statistics.mean(wait_times)\n",
    "    # Pretty print the results\n",
    "    minutes, frac_minutes = divmod(average_wait, 1)\n",
    "    seconds = frac_minutes * 60\n",
    "    return round(minutes), round(seconds)"
   ]
  },
  {
   "cell_type": "code",
   "execution_count": 8,
   "metadata": {},
   "outputs": [],
   "source": [
    "def get_user_input():\n",
    "    num_cashiers = input(\"Input number of cashiers working : \")\n",
    "    num_servers = input(\"Input number of servers working : \")\n",
    "    num_users = input(\"Input number of users working : \")\n",
    "    params = [num_cashiers, num_servers, num_users]\n",
    "    if all(str(i).isdigit() for i in params):  # Check input is valid\n",
    "        params = [int(x) for x in params]\n",
    "    else:\n",
    "        print(\"Could not parse input, Simulation will use default values: \\n1 cashier, 1 server, 1 user.\")\n",
    "        params = [1, 1, 1]\n",
    "    return params"
   ]
  },
  {
   "cell_type": "code",
   "execution_count": 9,
   "metadata": {},
   "outputs": [],
   "source": [
    "def main():\n",
    "    # Setup\n",
    "    random.seed(42)\n",
    "    num_cashiers, num_servers, num_ushers = get_user_input()\n",
    "\n",
    "    # Run the simulation\n",
    "    env = simpy.Environment()\n",
    "    env.process(run_theater(env, num_cashiers, num_servers, num_ushers))\n",
    "    env.run(until=90)\n",
    "\n",
    "    # View the results\n",
    "    mins, secs = get_average_wait_time(wait_times)\n",
    "    print(\"Running simulation...\",\n",
    "        f\"\\nThe average wait time is {mins} minutes and {secs} seconds.\")"
   ]
  },
  {
   "cell_type": "code",
   "execution_count": 10,
   "metadata": {},
   "outputs": [
    {
     "name": "stdout",
     "output_type": "stream",
     "text": [
      "Input number of cashiers working : 10\n",
      "Input number of servers working : 15\n",
      "Input number of users working : 14\n",
      "Running simulation... \n",
      "The average wait time is 3 minutes and 47 seconds.\n"
     ]
    }
   ],
   "source": [
    "## Run simulation \n",
    "if __name__ == \"__main__\":\n",
    "    main()"
   ]
  },
  {
   "cell_type": "code",
   "execution_count": null,
   "metadata": {},
   "outputs": [],
   "source": []
  }
 ],
 "metadata": {
  "kernelspec": {
   "display_name": "Python 3 (ipykernel)",
   "language": "python",
   "name": "python3"
  },
  "language_info": {
   "codemirror_mode": {
    "name": "ipython",
    "version": 3
   },
   "file_extension": ".py",
   "mimetype": "text/x-python",
   "name": "python",
   "nbconvert_exporter": "python",
   "pygments_lexer": "ipython3",
   "version": "3.9.7"
  }
 },
 "nbformat": 4,
 "nbformat_minor": 4
}
