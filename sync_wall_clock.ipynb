{
 "cells": [
  {
   "cell_type": "markdown",
   "metadata": {},
   "source": [
    "### Implement synchronizing simulation time with wallclock time"
   ]
  },
  {
   "cell_type": "code",
   "execution_count": 1,
   "metadata": {},
   "outputs": [
    {
     "name": "stdout",
     "output_type": "stream",
     "text": [
      "Collecting simpy==2.3.1\n",
      "  Downloading simpy-2.3.1.zip (3.3 MB)\n",
      "Building wheels for collected packages: simpy\n",
      "  Building wheel for simpy (setup.py): started\n",
      "  Building wheel for simpy (setup.py): finished with status 'done'\n",
      "  Created wheel for simpy: filename=simpy-2.3.1-py3-none-any.whl size=75314 sha256=614666695afa3f3ba8fa0f751b8eb3188106fe31022a71e054ba8f219534116d\n",
      "  Stored in directory: c:\\users\\mudit jain\\appdata\\local\\pip\\cache\\wheels\\3d\\56\\23\\3995c290de8993ef4b52a077eba0e1b0903605a78c0a238f38\n",
      "Successfully built simpyNote: you may need to restart the kernel to use updated packages.\n",
      "\n",
      "Installing collected packages: simpy\n",
      "  Attempting uninstall: simpy\n",
      "    Found existing installation: simpy 4.0.1\n",
      "    Uninstalling simpy-4.0.1:\n",
      "      Successfully uninstalled simpy-4.0.1\n",
      "Successfully installed simpy-2.3.1\n"
     ]
    }
   ],
   "source": [
    "pip install simpy==2.3.1"
   ]
  },
  {
   "cell_type": "code",
   "execution_count": 2,
   "metadata": {},
   "outputs": [],
   "source": [
    "from SimPy.Simulation import *\n",
    "from random import *\n",
    "import time"
   ]
  },
  {
   "cell_type": "markdown",
   "metadata": {},
   "source": [
    "##### Simulation allows synchronizing simulation time and real (wallclock) time. This capability can be used to implement e.g. interactive game applications or to demonstrate a model’s execution in real time."
   ]
  },
  {
   "cell_type": "code",
   "execution_count": 3,
   "metadata": {},
   "outputs": [],
   "source": [
    "class Launcher(Process):\n",
    "    def launch(self):\n",
    "        while True:\n",
    "            print(\"Launch at %2.2f; wallclock: %2.2f\"%(now(),time.process_time()-startTime))\n",
    "            yield hold,self,uniform(1,maxFlightTime)\n",
    "            print(\"Mudit Out at %2.2f; wallclock: %2.2f\"%(now(),time.process_time()-startTime))"
   ]
  },
  {
   "cell_type": "code",
   "execution_count": 4,
   "metadata": {},
   "outputs": [],
   "source": [
    "def model():\n",
    "    initialize()\n",
    "    for i in range(nrLaunchers):\n",
    "        lau = Launcher()\n",
    "        activate(lau,lau.launch())\n",
    "    simulate(until=20)"
   ]
  },
  {
   "cell_type": "code",
   "execution_count": 5,
   "metadata": {},
   "outputs": [],
   "source": [
    "## Experiment data    \n",
    "nrLaunchers = 2\n",
    "maxFlightTime = 5.0 \n",
    "startTime = time.process_time()\n",
    "seed(1234567)"
   ]
  },
  {
   "cell_type": "code",
   "execution_count": 6,
   "metadata": {},
   "outputs": [
    {
     "name": "stdout",
     "output_type": "stream",
     "text": [
      "Launch at 0.00; wallclock: 0.00\n",
      "Launch at 0.00; wallclock: 0.00\n",
      "Mudit Out at 1.94; wallclock: 0.00\n",
      "Launch at 1.94; wallclock: 0.00\n",
      "Mudit Out at 4.85; wallclock: 0.00\n",
      "Launch at 4.85; wallclock: 0.00\n",
      "Mudit Out at 5.27; wallclock: 0.00\n",
      "Launch at 5.27; wallclock: 0.00\n",
      "Mudit Out at 6.76; wallclock: 0.00\n",
      "Launch at 6.76; wallclock: 0.00\n",
      "Mudit Out at 10.14; wallclock: 0.00\n",
      "Launch at 10.14; wallclock: 0.00\n",
      "Mudit Out at 10.21; wallclock: 0.00\n",
      "Launch at 10.21; wallclock: 0.00\n",
      "Mudit Out at 11.43; wallclock: 0.00\n",
      "Launch at 11.43; wallclock: 0.00\n",
      "Mudit Out at 13.34; wallclock: 0.00\n",
      "Launch at 13.34; wallclock: 0.00\n",
      "Mudit Out at 14.85; wallclock: 0.00\n",
      "Launch at 14.85; wallclock: 0.00\n",
      "Mudit Out at 17.48; wallclock: 0.00\n",
      "Launch at 17.48; wallclock: 0.00\n",
      "Mudit Out at 19.15; wallclock: 0.00\n",
      "Launch at 19.15; wallclock: 0.00\n",
      "Mudit Out at 19.18; wallclock: 0.00\n",
      "Launch at 19.18; wallclock: 0.00\n"
     ]
    }
   ],
   "source": [
    "## Start Experiment \n",
    "model()"
   ]
  },
  {
   "cell_type": "code",
   "execution_count": null,
   "metadata": {},
   "outputs": [],
   "source": []
  }
 ],
 "metadata": {
  "kernelspec": {
   "display_name": "Python 3 (ipykernel)",
   "language": "python",
   "name": "python3"
  },
  "language_info": {
   "codemirror_mode": {
    "name": "ipython",
    "version": 3
   },
   "file_extension": ".py",
   "mimetype": "text/x-python",
   "name": "python",
   "nbconvert_exporter": "python",
   "pygments_lexer": "ipython3",
   "version": "3.9.7"
  }
 },
 "nbformat": 4,
 "nbformat_minor": 4
}
