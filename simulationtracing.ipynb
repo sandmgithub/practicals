{
 "cells": [
  {
   "cell_type": "markdown",
   "metadata": {},
   "source": [
    "### Develop a simply simulation and simulation tracing program"
   ]
  },
  {
   "cell_type": "markdown",
   "metadata": {},
   "source": [
    "###### Installation of library"
   ]
  },
  {
   "cell_type": "code",
   "execution_count": 1,
   "metadata": {},
   "outputs": [
    {
     "name": "stdout",
     "output_type": "stream",
     "text": [
      "Requirement already satisfied: simpy in c:\\users\\mudit jain\\anaconda3\\lib\\site-packages (4.0.1)Note: you may need to restart the kernel to use updated packages.\n",
      "\n"
     ]
    }
   ],
   "source": [
    "pip install simpy"
   ]
  },
  {
   "cell_type": "code",
   "execution_count": 2,
   "metadata": {},
   "outputs": [],
   "source": [
    "import simpy as sp"
   ]
  },
  {
   "cell_type": "code",
   "execution_count": 3,
   "metadata": {},
   "outputs": [],
   "source": [
    "## A simply traffic light function\n",
    "def traffic_light(environment):\n",
    "    while True:\n",
    "        print(\"light turn green at \" + str(environment.now))\n",
    "    \n",
    "        yield environment.timeout(80)\n",
    "    \n",
    "        print(\"light turn yellow at \" + str(environment.now))\n",
    "    \n",
    "        yield environment.timeout(10)\n",
    "    \n",
    "        print(\"light turn red at \" + str(environment.now))\n",
    "    \n",
    "        yield environment.timeout(40)"
   ]
  },
  {
   "cell_type": "code",
   "execution_count": 4,
   "metadata": {},
   "outputs": [
    {
     "name": "stdout",
     "output_type": "stream",
     "text": [
      "light turn green at 0\n",
      "light turn yellow at 80\n",
      "light turn red at 90\n",
      "light turn green at 130\n"
     ]
    }
   ],
   "source": [
    "# Run Simulation\n",
    "environment = sp.Environment()\n",
    "environment.process(traffic_light(environment))\n",
    "environment.run(until = 150)"
   ]
  },
  {
   "cell_type": "code",
   "execution_count": null,
   "metadata": {},
   "outputs": [],
   "source": []
  }
 ],
 "metadata": {
  "kernelspec": {
   "display_name": "Python 3 (ipykernel)",
   "language": "python",
   "name": "python3"
  },
  "language_info": {
   "codemirror_mode": {
    "name": "ipython",
    "version": 3
   },
   "file_extension": ".py",
   "mimetype": "text/x-python",
   "name": "python",
   "nbconvert_exporter": "python",
   "pygments_lexer": "ipython3",
   "version": "3.9.7"
  }
 },
 "nbformat": 4,
 "nbformat_minor": 4
}
