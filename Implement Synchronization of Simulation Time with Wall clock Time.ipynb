{
 "cells": [
  {
   "cell_type": "code",
   "execution_count": 2,
   "metadata": {},
   "outputs": [
    {
     "name": "stdout",
     "output_type": "stream",
     "text": [
      "Collecting simpy==4.0.1\n",
      "  Using cached simpy-4.0.1-py2.py3-none-any.whl (29 kB)\n",
      "Installing collected packages: simpy\n",
      "  Attempting uninstall: simpy\n",
      "    Found existing installation: simpy 2.3.1\n",
      "    Uninstalling simpy-2.3.1:\n",
      "      Successfully uninstalled simpy-2.3.1\n",
      "Successfully installed simpy-4.0.1\n",
      "Note: you may need to restart the kernel to use updated packages.\n"
     ]
    }
   ],
   "source": [
    "pip install simpy==4.0.1"
   ]
  },
  {
   "cell_type": "code",
   "execution_count": 3,
   "metadata": {},
   "outputs": [
    {
     "name": "stdout",
     "output_type": "stream",
     "text": [
      "Let Arrival time be: 20\n",
      "Let Departure time be: 10\n",
      "time  0 ; Wall-clock Time:  68.1781577\n",
      "Customer Arrival\n",
      "time  20 ; Wall-clock Time:  88.1772885\n",
      "Customer Departure \n",
      "time  30 ; Wall-clock Time:  98.1861765\n",
      "Customer Arrival\n",
      "time  50 ; Wall-clock Time:  118.1748257\n",
      "Customer Departure \n",
      "time  60 ; Wall-clock Time:  128.1866473\n",
      "Customer Arrival\n",
      "time  80 ; Wall-clock Time:  148.1757834\n",
      "Customer Departure \n",
      "time  90 ; Wall-clock Time:  158.1878223\n",
      "Customer Arrival\n",
      "time  110 ; Wall-clock Time:  178.181286\n",
      "Customer Departure \n",
      "time  120 ; Wall-clock Time:  188.1737715\n",
      "Customer Arrival\n",
      "time  140 ; Wall-clock Time:  208.1876497\n",
      "Customer Departure \n",
      "time  150 ; Wall-clock Time:  218.175896\n",
      "Customer Arrival\n",
      "time  170 ; Wall-clock Time:  238.1879838\n",
      "Customer Departure \n",
      "time  180 ; Wall-clock Time:  248.174082\n",
      "Customer Arrival\n",
      "time  200 ; Wall-clock Time:  268.1817907\n",
      "Customer Departure \n",
      "time  210 ; Wall-clock Time:  278.1792646\n",
      "Customer Arrival\n",
      "time  230 ; Wall-clock Time:  298.1843266\n",
      "Customer Departure \n",
      "time  240 ; Wall-clock Time:  308.1777433\n",
      "Customer Arrival\n",
      "time  260 ; Wall-clock Time:  328.1941635\n",
      "Customer Departure \n",
      "time  270 ; Wall-clock Time:  338.1943142\n",
      "Customer Arrival\n",
      "time  290 ; Wall-clock Time:  358.1896402\n",
      "Customer Departure \n",
      "time  300 ; Wall-clock Time:  368.1851235\n",
      "Customer Arrival\n",
      "time  320 ; Wall-clock Time:  388.1792156\n",
      "Customer Departure \n",
      "time  330 ; Wall-clock Time:  398.1781498\n",
      "Customer Arrival\n",
      "time  350 ; Wall-clock Time:  418.1846324\n",
      "Customer Departure \n",
      "time  360 ; Wall-clock Time:  428.1834087\n",
      "Customer Arrival\n",
      "time  380 ; Wall-clock Time:  448.1725283\n",
      "Customer Departure \n",
      "time  390 ; Wall-clock Time:  458.1871038\n",
      "Customer Arrival\n"
     ]
    }
   ],
   "source": [
    "import time\n",
    "import simpy.rt\n",
    "\n",
    "def queingSystem(env):\n",
    "    while True:\n",
    "        print(\"time \", env.now, \"; Wall-clock Time: \", time.perf_counter())\n",
    "        print(\"Customer Arrival\")\n",
    "        yield env.timeout(20)\n",
    "        print(\"time \", env.now, \"; Wall-clock Time: \", time.perf_counter())\n",
    "        print(\"Customer Departure \")\n",
    "        yield env.timeout(10)\n",
    "\n",
    "env = simpy.rt.RealtimeEnvironment(factor = 1, strict=False)\n",
    "print(\"Let Arrival time be: 20\")\n",
    "print(\"Let Departure time be: 10\")\n",
    "\n",
    "env.process(queingSystem(env))\n",
    "env.run(until = 400)\n"
   ]
  },
  {
   "cell_type": "code",
   "execution_count": null,
   "metadata": {},
   "outputs": [],
   "source": []
  }
 ],
 "metadata": {
  "kernelspec": {
   "display_name": "Python 3 (ipykernel)",
   "language": "python",
   "name": "python3"
  },
  "language_info": {
   "codemirror_mode": {
    "name": "ipython",
    "version": 3
   },
   "file_extension": ".py",
   "mimetype": "text/x-python",
   "name": "python",
   "nbconvert_exporter": "python",
   "pygments_lexer": "ipython3",
   "version": "3.9.7"
  }
 },
 "nbformat": 4,
 "nbformat_minor": 2
}
